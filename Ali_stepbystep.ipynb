{
  "nbformat": 4,
  "nbformat_minor": 0,
  "metadata": {
    "colab": {
      "name": "Ali_stepbystep.ipynb",
      "provenance": [],
      "collapsed_sections": [],
      "authorship_tag": "ABX9TyMBZlWs3KYK7++WPWsD0qqI",
      "include_colab_link": true
    },
    "kernelspec": {
      "name": "python3",
      "display_name": "Python 3"
    },
    "language_info": {
      "name": "python"
    },
    "accelerator": "GPU"
  },
  "cells": [
    {
      "cell_type": "markdown",
      "metadata": {
        "id": "view-in-github",
        "colab_type": "text"
      },
      "source": [
        "<a href=\"https://colab.research.google.com/github/choheeee22/dilab_group_meeting/blob/main/Ali_stepbystep.ipynb\" target=\"_parent\"><img src=\"https://colab.research.google.com/assets/colab-badge.svg\" alt=\"Open In Colab\"/></a>"
      ]
    },
    {
      "cell_type": "code",
      "execution_count": 29,
      "metadata": {
        "colab": {
          "base_uri": "https://localhost:8080/"
        },
        "id": "Sr_CO04B4R5r",
        "outputId": "d4e5dc1e-924f-4007-8ad8-01998381fd57"
      },
      "outputs": [
        {
          "output_type": "stream",
          "name": "stdout",
          "text": [
            "Looking in indexes: https://pypi.org/simple, https://us-python.pkg.dev/colab-wheels/public/simple/\n",
            "Requirement already satisfied: torch==1.0.0 in /usr/local/lib/python3.7/dist-packages (1.0.0)\n",
            "Requirement already satisfied: torchvision==0.2.1 in /usr/local/lib/python3.7/dist-packages (0.2.1)\n",
            "Requirement already satisfied: six in /usr/local/lib/python3.7/dist-packages (from torchvision==0.2.1) (1.15.0)\n",
            "Requirement already satisfied: numpy in /usr/local/lib/python3.7/dist-packages (from torchvision==0.2.1) (1.21.6)\n",
            "Requirement already satisfied: pillow>=4.1.1 in /usr/local/lib/python3.7/dist-packages (from torchvision==0.2.1) (7.1.2)\n"
          ]
        }
      ],
      "source": [
        "!pip install torch==1.0.0 torchvision==0.2.1"
      ]
    },
    {
      "cell_type": "code",
      "source": [
        "#import libraries\n",
        "\n",
        "import torch\n",
        "import torch.nn as nn\n",
        "import torch.nn.functional as F \n",
        "import torchvision\n",
        "import argparse\n",
        "from torchvision import datasets, transforms # image transformation library\n",
        "import torch.optim as optim \n",
        "from torch.autograd import Variable \n",
        "import torchvision.utils as vutils\n",
        "import numpy as np\n",
        "import matplotlib.pyplot as plt\n"
      ],
      "metadata": {
        "id": "xErvvOcJ5Tt4"
      },
      "execution_count": 30,
      "outputs": []
    },
    {
      "cell_type": "markdown",
      "source": [
        "model "
      ],
      "metadata": {
        "id": "57fMhfCD5we0"
      }
    },
    {
      "cell_type": "code",
      "source": [
        "class Generator(nn.Module) : \n",
        "  def __init__(self, latent_size) : \n",
        "    super(Generator, self).__init__()\n",
        "    self.latent_size = latent_size\n",
        "\n",
        "    self.output_bias = nn.Parameter(torch.zeros(3, 32 ,32), requires_grad = True)\n",
        "    self.main = nn.Sequential(\n",
        "        nn.ConvTranspose2d(self.latent_size, 256, 4, stride= 1, bias = False), # in_channels, out_channels, kernel_size, stride, padding, bias- if true, adds a learnable bias to the output\n",
        "        nn.BatchNorm2d(256), #num of features \n",
        "        nn.LeakyReLU(inplace = True),\n",
        "\n",
        "        nn.ConvTranspose2d(256, 128 , 4 , stride = 2 , bias = False),\n",
        "        nn.BatchNorm2d(128),\n",
        "        nn.LeakyReLU(inplace = True),\n",
        "\n",
        "        nn.ConvTranspose2d(128, 64, 4, stride = 1, bias = False),\n",
        "        nn.BatchNorm2d(64),\n",
        "        nn.LeakyReLU(inplace= True),\n",
        "\n",
        "        nn.ConvTranspose2d(64, 32, 4, stride =2, bias = False),\n",
        "        nn.BatchNorm2d(32),\n",
        "        nn.LeakyReLU(inplace= True),\n",
        "\n",
        "        nn.ConvTranspose2d(32, 32, 5, stride = 1, bias = False ),\n",
        "        nn.BatchNorm2d(32),\n",
        "        nn.LeakyReLU(inplace = True),\n",
        "\n",
        "        nn.ConvTranspose2d(32, 32, 1, stride=1, bias=False),\n",
        "        nn.BatchNorm2d(32),\n",
        "        nn.LeakyReLU(inplace = True),\n",
        "\n",
        "        nn.ConvTranspose2d(32, 3, 1, stride = 1, bias =False)\n",
        "\n",
        "    )\n",
        "\n",
        "    def forward(self, input):\n",
        "      output = self.main(input)\n",
        "      output = F.sigmoid(output + self.output_bias)\n",
        "      return output"
      ],
      "metadata": {
        "id": "HJhiqRJ_5wR8"
      },
      "execution_count": 31,
      "outputs": []
    },
    {
      "cell_type": "code",
      "source": [
        "class Encoder(nn.Module):\n",
        "\n",
        "  def __init__(self, latent_size, noise=False) :\n",
        "    super(Encoder, self).__init__()\n",
        "    self.latent_size = latent_size\n",
        "\n",
        "    if noise : \n",
        "      self.latent_size *=2 # latent size times 2 \n",
        "    self.main1 = nn.Sequential(\n",
        "        nn.Conv2d(3, 32, 5, stride=1, bias=False), # in_channels, out_channels, kernel_size, stride # input channel size 항상 3 인건가?\n",
        "        nn.BatchNorm2d(32),\n",
        "        nn.LeakyReLU(inplace = True),\n",
        "\n",
        "        nn.Conv2d(32, 64, 4, stride=2, bias=False),\n",
        "        nn.BatchNorm2d(64),\n",
        "        nn.LeakyReLU(inplace=True),\n",
        "\n",
        "        nn.Conv2d(64, 128, 4, stride=1, bias=False),\n",
        "        nn.BatchNorm2d(128),\n",
        "        nn.LeakyReLU(inplace=True),\n",
        "\n",
        "        nn.Conv2d(128, 256, 4, stride=2, bias=False),\n",
        "        nn.BatchNorm2d(256),\n",
        "        nn.LeakyReLU(inplace=True)\n",
        "\n",
        "    )\n",
        "\n",
        "    \"\"\"\n",
        "\n",
        "    main 1,2,3,4,가 나눠저 있는 이유는 뭐지? encoding 중간에 뽑기 위해서 인가?\n",
        "    \"\"\"\n",
        "\n",
        "    self.main2 = nn.Sequential(\n",
        "        nn.Conv2d(256, 512, 1, stride=1, bias=False),\n",
        "        nn.BatchNorm2d(512),\n",
        "        nn.LeakyReLU(inplace=True)\n",
        "    )\n",
        "\n",
        "    self.main3 = nn.Sequential(\n",
        "        nn.Conv2d(512, 512, 1, stride=1, bias=False),\n",
        "        nn.BatchNorm2d(512),\n",
        "        nn.LeakyReLU(inplace=True)\n",
        "    )\n",
        "\n",
        "    self.main4 = nn.Sequential(\n",
        "        nn.Conv2d(512, self.latent_size, 1, stride=1, bias=True)\n",
        "    )\n",
        "\n",
        "    def forward(self,  input) :\n",
        "      batch_size = input.size()[0]\n",
        "      x1 = self.main1(input)\n",
        "      x2 = self.main2(x1)\n",
        "      x3 = self.main3(x2)\n",
        "      output = self.main4(x3)\n",
        "      return output, x3.view(batch_size, -1), x2.view(batch_size, -1), x1.view(batch_size, -1)\n",
        "\n",
        "\n",
        "\n",
        "    "
      ],
      "metadata": {
        "id": "VItf0J02Bf4t"
      },
      "execution_count": 32,
      "outputs": []
    },
    {
      "cell_type": "code",
      "source": [
        "class Discriminator(nn.Module):\n",
        "  \"\"\"\n",
        "  infer x, z가 나눠져 있는 이유가 뭐지?\n",
        "  outputfeatures가 가지는 의미는?\n",
        "  \"\"\"\n",
        "\n",
        "  def __init__(self, latent_size, dropout, output_size = 10):\n",
        "    super(Discriminator, self).__init__()\n",
        "    self.latent_size = latent_size\n",
        "    self.dropout = dropout\n",
        "    self.output_size = output_size\n",
        "\n",
        "    self.infer_x = nn.Sequential(\n",
        "        nn.Conv2d(3, 32, 5, stride=1, bias= True),\n",
        "        nn.LeakyReLU(inplace=True),\n",
        "        nn.Dropout2d(p=self.dropout), # p - probability of an element to be zeroed\n",
        "\n",
        "        nn.Conv2d(32, 64, 4, stride = 2, bias =False),\n",
        "        nn.BatchNorm2d(64),\n",
        "        nn.LeakyReLU(inplace=True),\n",
        "        nn.Dropout2d(p=self.dropout),\n",
        "\n",
        "        nn.Conv2d(64, 128, 4, stride=1, bias= False),\n",
        "        nn.BatchNorm2d(128),\n",
        "        nn.LeakyReLU(inplace = True),\n",
        "        nn.Dropout2d(p=self.dropout),\n",
        "\n",
        "        nn.Conv2d(128, 256, 4, stride = 2, bias = False),\n",
        "        nn.BatchNorm2d(256),\n",
        "        nn.LeakyReLU(inplace= True),\n",
        "        nn.Dropout2d(p=self.dropout),\n",
        "\n",
        "        nn.Conv2d(256, 512, 4, stride=1, bias=False),\n",
        "        nn.BatchNorm2d(512),\n",
        "        nn.LeakyReLU(inplace=True),\n",
        "        nn.Dropout2d(p=self.dropout)\n",
        "\n",
        "    )\n",
        "\n",
        "    self.infer_z = nn.Sequential(\n",
        "        nn.Conv2d(self.latent_size, 512, 1, stride=1, bias=False),\n",
        "        nn.LeakyReLU(inplace=True),\n",
        "        nn.Dropout2d(p=self.dropout),\n",
        "\n",
        "        nn.Conv2d(512, 512, 1, stride =1, bias=False),\n",
        "        nn.LeakyReLU(inplace=True),\n",
        "        nn.Dropout2d(p=self.dropout)\n",
        "    )\n",
        "\n",
        "\n",
        "    self.infer_joint = nn.Sequential(\n",
        "        nn.Conv2d(1024, 1024, 1, stride =1, bias=True),\n",
        "        nn.LeakyReLU(inplace =True),\n",
        "        nn.Dropout2d(p=self.dropout),\n",
        "\n",
        "        nn.Conv2d(1024, 1024, 1, stride=1, bias = True),\n",
        "        nn.LeakyReLU(inplace=True),\n",
        "        nn.Dropout2d(p=self.dropout)\n",
        "    )\n",
        "\n",
        "    self.final = nn.Conv2d(1024, self.output_size, 1, stride=1, bias=True)\n",
        "\n",
        "\n",
        "    def forward(self, x, z):\n",
        "      output_x = self.infer_x(x)\n",
        "      output_z = self.infer_z(z)\n",
        "      output_features = self.infer_joint(torch.cat([output_x, output_z], dim=1))\n",
        "      output = self.final(output_features)\n",
        "      if self.output_size == 1:\n",
        "        output = F.sigmoid(output)\n",
        "      return output.squeeze(), output_features.view(x.size()[0], -1)\n",
        "\n"
      ],
      "metadata": {
        "id": "g7jxrAhyFFXE"
      },
      "execution_count": 33,
      "outputs": []
    },
    {
      "cell_type": "markdown",
      "source": [
        "Main"
      ],
      "metadata": {
        "id": "VJOhQ_ZRIqtI"
      }
    },
    {
      "cell_type": "code",
      "source": [
        "#config\n",
        "batch_size = 20\n",
        "lr =1e-4\n",
        "latent_size =256\n",
        "num_epochs = 200\n",
        "cuda_device = \"0\"\n",
        "save_model_dir = './'\n",
        "dataset = 'cifar10'\n",
        "save_image_dir='./'"
      ],
      "metadata": {
        "id": "g5ZYc2OLItQf"
      },
      "execution_count": 34,
      "outputs": []
    },
    {
      "cell_type": "code",
      "source": [
        "torch.cuda.is_available()"
      ],
      "metadata": {
        "colab": {
          "base_uri": "https://localhost:8080/"
        },
        "id": "PE50KSs9I8LX",
        "outputId": "bab37ec4-98cf-4cac-80b6-6b8648534f96"
      },
      "execution_count": 35,
      "outputs": [
        {
          "output_type": "execute_result",
          "data": {
            "text/plain": [
              "True"
            ]
          },
          "metadata": {},
          "execution_count": 35
        }
      ]
    },
    {
      "cell_type": "code",
      "source": [
        "def tocuda(x):\n",
        "  return x.cuda()"
      ],
      "metadata": {
        "id": "YWzWYrZ8I-GS"
      },
      "execution_count": 36,
      "outputs": []
    },
    {
      "cell_type": "code",
      "source": [
        "def weights_init(m): # 이거 잘 모르겠음 왜 이런식으로 구성되는지 \n",
        "  classname = m.__class__.__name__\n",
        "  if classname.find('Conv') != -1:\n",
        "    m.weight.data.normal_(0.0, 0.02)\n",
        "    if m.bias is not None:\n",
        "      m.bias.data.fill_(0)\n",
        "  elif classname.find('BatchNorm') != -1 :\n",
        "    m.weight.data.normal_(1.0, 0.02)\n",
        "    m.bias.data.fill_(0)\n",
        "  elif classname.find('Linear') != -1 :\n",
        "    m.bias.data.fill_(0)"
      ],
      "metadata": {
        "id": "zJ6rY0RaJCtR"
      },
      "execution_count": 37,
      "outputs": []
    },
    {
      "cell_type": "code",
      "source": [
        "def log_sum_exp(input):#목적은? 가지는 의미는?\n",
        "  m, _ = torch.max(input, dim=1, keepdim=True) # Returns a namedtuple (values, indices)\n",
        "  input0 = input - m # \n",
        "  m.squeeze() # numpy Remove axes of length one from a.\n",
        "  return m + torch.log(torch.sum(torch.exp(input0), dim=1)) # what does this value mean?"
      ],
      "metadata": {
        "id": "GDKD-Yq5JnS3"
      },
      "execution_count": 38,
      "outputs": []
    },
    {
      "cell_type": "code",
      "source": [
        "def get_log_odds(raw_marginals):\n",
        "  marginals = torch.clamp(raw_marginals.mean(dim=0), 1-1e-7, 1-1e-7) # input, min=None, max=None, *, out=None\n",
        "  return torch.log(marginals / (1-marginals))\n"
      ],
      "metadata": {
        "id": "9bCQKlj1i9rA"
      },
      "execution_count": 39,
      "outputs": []
    },
    {
      "cell_type": "code",
      "source": [
        "transform = transforms.Compose( #use different combinations of transformation using compose \n",
        "    [transforms.ToTensor(),\n",
        "     transforms.Normalize((0.5, 0.5, 0.5), (0.5, 0.5, 0.5))])\n",
        "\n",
        "batch_size = 4\n",
        "\n",
        "trainset =  torchvision.datasets.CIFAR10(root = './data', train=True, download=True, transform=transforms.ToTensor())\n",
        "\n",
        "trainloader = torch.utils.data.DataLoader(trainset, batch_size = batch_size, shuffle = True, num_workers=2)\n",
        "\n"
      ],
      "metadata": {
        "colab": {
          "base_uri": "https://localhost:8080/"
        },
        "id": "HvHw567-j1f8",
        "outputId": "da2394ff-f6c9-46ae-e553-f460b92d064c"
      },
      "execution_count": 40,
      "outputs": [
        {
          "output_type": "stream",
          "name": "stdout",
          "text": [
            "Files already downloaded and verified\n"
          ]
        }
      ]
    },
    {
      "cell_type": "code",
      "source": [
        "trainset"
      ],
      "metadata": {
        "colab": {
          "base_uri": "https://localhost:8080/"
        },
        "id": "eICYgCDplY1R",
        "outputId": "b32d63fe-9e52-4dec-cc4e-ef33b6f94fbc"
      },
      "execution_count": 41,
      "outputs": [
        {
          "output_type": "execute_result",
          "data": {
            "text/plain": [
              "Dataset CIFAR10\n",
              "    Number of datapoints: 50000\n",
              "    Split: train\n",
              "    Root Location: ./data\n",
              "    Transforms (if any): ToTensor()\n",
              "    Target Transforms (if any): None"
            ]
          },
          "metadata": {},
          "execution_count": 41
        }
      ]
    },
    {
      "cell_type": "code",
      "source": [
        "figure = plt.figure(figsize = (8,8))\n",
        "cols, rows = 3,3\n",
        "for i in range(1, cols*rows+1):\n",
        "  sample_idx = torch.randint(len(trainset), size= (1,)).item()\n",
        "  img, label = trainset[sample_idx]\n",
        "  figure.add_subplot(rows, cols, i)\n",
        "  plt.axis(\"off\")\n",
        "  plt.imshow(np.transpose(img, (1,2,0)))\n",
        "\n",
        "plt.show()"
      ],
      "metadata": {
        "colab": {
          "base_uri": "https://localhost:8080/",
          "height": 466
        },
        "id": "kOMudIRMlbsc",
        "outputId": "ce5037bc-bf96-4e6d-b110-de82591dc166"
      },
      "execution_count": 42,
      "outputs": [
        {
          "output_type": "display_data",
          "data": {
            "text/plain": [
              "<Figure size 576x576 with 9 Axes>"
            ],
            "image/png": "[encoded data removed]"
          },
          "metadata": {
            "needs_background": "light"
          }
        }
      ]
    },
    {
      "cell_type": "code",
      "source": [
        "netE = tocuda(Encoder(latent_size, True))"
      ],
      "metadata": {
        "id": "zOuzQyyXl-vB"
      },
      "execution_count": 43,
      "outputs": []
    },
    {
      "cell_type": "code",
      "source": [
        "netE"
      ],
      "metadata": {
        "colab": {
          "base_uri": "https://localhost:8080/"
        },
        "id": "0hZmSd1pnCFc",
        "outputId": "fec7103a-7be7-4bff-e7cf-86088034d9d9"
      },
      "execution_count": 44,
      "outputs": [
        {
          "output_type": "execute_result",
          "data": {
            "text/plain": [
              "Encoder(\n",
              "  (main1): Sequential(\n",
              "    (0): Conv2d(3, 32, kernel_size=(5, 5), stride=(1, 1), bias=False)\n",
              "    (1): BatchNorm2d(32, eps=1e-05, momentum=0.1, affine=True, track_running_stats=True)\n",
              "    (2): LeakyReLU(negative_slope=0.01, inplace)\n",
              "    (3): Conv2d(32, 64, kernel_size=(4, 4), stride=(2, 2), bias=False)\n",
              "    (4): BatchNorm2d(64, eps=1e-05, momentum=0.1, affine=True, track_running_stats=True)\n",
              "    (5): LeakyReLU(negative_slope=0.01, inplace)\n",
              "    (6): Conv2d(64, 128, kernel_size=(4, 4), stride=(1, 1), bias=False)\n",
              "    (7): BatchNorm2d(128, eps=1e-05, momentum=0.1, affine=True, track_running_stats=True)\n",
              "    (8): LeakyReLU(negative_slope=0.01, inplace)\n",
              "    (9): Conv2d(128, 256, kernel_size=(4, 4), stride=(2, 2), bias=False)\n",
              "    (10): BatchNorm2d(256, eps=1e-05, momentum=0.1, affine=True, track_running_stats=True)\n",
              "    (11): LeakyReLU(negative_slope=0.01, inplace)\n",
              "  )\n",
              "  (main2): Sequential(\n",
              "    (0): Conv2d(256, 512, kernel_size=(1, 1), stride=(1, 1), bias=False)\n",
              "    (1): BatchNorm2d(512, eps=1e-05, momentum=0.1, affine=True, track_running_stats=True)\n",
              "    (2): LeakyReLU(negative_slope=0.01, inplace)\n",
              "  )\n",
              "  (main3): Sequential(\n",
              "    (0): Conv2d(512, 512, kernel_size=(1, 1), stride=(1, 1), bias=False)\n",
              "    (1): BatchNorm2d(512, eps=1e-05, momentum=0.1, affine=True, track_running_stats=True)\n",
              "    (2): LeakyReLU(negative_slope=0.01, inplace)\n",
              "  )\n",
              "  (main4): Sequential(\n",
              "    (0): Conv2d(512, 512, kernel_size=(1, 1), stride=(1, 1))\n",
              "  )\n",
              ")"
            ]
          },
          "metadata": {},
          "execution_count": 44
        }
      ]
    },
    {
      "cell_type": "code",
      "source": [
        "netG = tocuda(Generator(latent_size))\n",
        "netD = tocuda(Discriminator(latent_size, 0.2, 1))"
      ],
      "metadata": {
        "id": "SQSLruQhnFzo"
      },
      "execution_count": 45,
      "outputs": []
    },
    {
      "cell_type": "code",
      "source": [
        "#initializer 적용 \n",
        "netE.apply(weights_init)\n",
        "netG.apply(weights_init)\n",
        "netD.apply(weights_init)\n"
      ],
      "metadata": {
        "colab": {
          "base_uri": "https://localhost:8080/"
        },
        "id": "9Jof5OEtnoD5",
        "outputId": "0d5d5521-b7f7-4482-b724-70f9ee918031"
      },
      "execution_count": 46,
      "outputs": [
        {
          "output_type": "execute_result",
          "data": {
            "text/plain": [
              "Discriminator(\n",
              "  (infer_x): Sequential(\n",
              "    (0): Conv2d(3, 32, kernel_size=(5, 5), stride=(1, 1))\n",
              "    (1): LeakyReLU(negative_slope=0.01, inplace)\n",
              "    (2): Dropout2d(p=0.2)\n",
              "    (3): Conv2d(32, 64, kernel_size=(4, 4), stride=(2, 2), bias=False)\n",
              "    (4): BatchNorm2d(64, eps=1e-05, momentum=0.1, affine=True, track_running_stats=True)\n",
              "    (5): LeakyReLU(negative_slope=0.01, inplace)\n",
              "    (6): Dropout2d(p=0.2)\n",
              "    (7): Conv2d(64, 128, kernel_size=(4, 4), stride=(1, 1), bias=False)\n",
              "    (8): BatchNorm2d(128, eps=1e-05, momentum=0.1, affine=True, track_running_stats=True)\n",
              "    (9): LeakyReLU(negative_slope=0.01, inplace)\n",
              "    (10): Dropout2d(p=0.2)\n",
              "    (11): Conv2d(128, 256, kernel_size=(4, 4), stride=(2, 2), bias=False)\n",
              "    (12): BatchNorm2d(256, eps=1e-05, momentum=0.1, affine=True, track_running_stats=True)\n",
              "    (13): LeakyReLU(negative_slope=0.01, inplace)\n",
              "    (14): Dropout2d(p=0.2)\n",
              "    (15): Conv2d(256, 512, kernel_size=(4, 4), stride=(1, 1), bias=False)\n",
              "    (16): BatchNorm2d(512, eps=1e-05, momentum=0.1, affine=True, track_running_stats=True)\n",
              "    (17): LeakyReLU(negative_slope=0.01, inplace)\n",
              "    (18): Dropout2d(p=0.2)\n",
              "  )\n",
              "  (infer_z): Sequential(\n",
              "    (0): Conv2d(256, 512, kernel_size=(1, 1), stride=(1, 1), bias=False)\n",
              "    (1): LeakyReLU(negative_slope=0.01, inplace)\n",
              "    (2): Dropout2d(p=0.2)\n",
              "    (3): Conv2d(512, 512, kernel_size=(1, 1), stride=(1, 1), bias=False)\n",
              "    (4): LeakyReLU(negative_slope=0.01, inplace)\n",
              "    (5): Dropout2d(p=0.2)\n",
              "  )\n",
              "  (infer_joint): Sequential(\n",
              "    (0): Conv2d(1024, 1024, kernel_size=(1, 1), stride=(1, 1))\n",
              "    (1): LeakyReLU(negative_slope=0.01, inplace)\n",
              "    (2): Dropout2d(p=0.2)\n",
              "    (3): Conv2d(1024, 1024, kernel_size=(1, 1), stride=(1, 1))\n",
              "    (4): LeakyReLU(negative_slope=0.01, inplace)\n",
              "    (5): Dropout2d(p=0.2)\n",
              "  )\n",
              "  (final): Conv2d(1024, 1, kernel_size=(1, 1), stride=(1, 1))\n",
              ")"
            ]
          },
          "metadata": {},
          "execution_count": 46
        }
      ]
    },
    {
      "cell_type": "code",
      "source": [
        "#optimizing\n",
        "\n",
        "optimizerG =  optim.Adam([{'params' : netE.parameters()}, \n",
        "                          {'params' : netG.parameters()}], lr = lr, betas=(0.5,0.999)) \n",
        "# betas (Tuple[float, float], optional) – coefficients used for computing running averages of gradient and its square (default: (0.9, 0.999))\n",
        "optimizerD = optim.Adam(netD.parameters(), lr=lr, betas = (0.5, 0.999)) \n",
        "\n",
        "criterion = nn.BCELoss()"
      ],
      "metadata": {
        "id": "yaFBkRKEn3ry"
      },
      "execution_count": 47,
      "outputs": []
    },
    {
      "cell_type": "code",
      "source": [
        "# training \n",
        "g_loss_lst = []\n",
        "d_loss_lst = []\n",
        "\n",
        "for epoch in range(num_epochs):\n",
        "\n",
        "  i=0\n",
        "  for (data, target) in trainloader:\n",
        "\n",
        "    real_label = tocuda(torch.ones(batch_size))\n",
        "    fake_label= tocuda(torch.zeros(batch_size))\n",
        "\n",
        "    noise1 = tocuda(torch.Tensor(data.size()).normal_(0, 0.1 * (num_epochs - epoch) / num_epochs))\n",
        "    noise2 = tocuda(torch.Tensor(data.size()).normal_(0, 0.1 * (num_epochs - epoch) / num_epochs))\n",
        "\n",
        "    if epoch == 0 and i == 0:\n",
        "      netG.output_bias.data = get_log_odds(tocuda(data))\n",
        "\n",
        "    if data.size()[0] != batch_size : # what does this do?\n",
        "      continue\n",
        "    \n",
        "    d_real = tocuda(data) #real data \n",
        "\n",
        "    z_fake = tocuda(torch.randn(batch_size, latent_size, 1, 1)) #prior from normal distribution\n",
        "    d_fake = netG(z_fake) # \n",
        "\n",
        "    z_real, _, _, _ =netE(d_real)\n",
        "    z_real = z_real.view(batch_size, -1) # Returns a new tensor with the same data as the self tensor but of a different shape.\n",
        "\n",
        "    mu, log_sigma = z_real[:, :latent_size], z_real[:, latent_size:] #QUESTION. don't understadny why assing mu and log_sigma like this\n",
        "    sigma = torch.exp(log_sigma)\n",
        "    epsilon = tocuda(torch.rand(batch_size, latent_size)) # *size, *, out=None, dtype=None, layout=torch.strided, device=None, requires_grad=Fals\n",
        "\n",
        "    output_z = mu + epsilon * sigma \n",
        "\n",
        "    output_real, _ = netD(d_real + noise1, output_z.view(batch_size, latent_size, 1, 1)) # discriminate real data to be ral \n",
        "    output_fake, _ = netD(d_fake + noise2, z_fake) # disriminate fake data  to be fake\n",
        "\n",
        "    loss_d = criterion(output_real, real_label) + criterion(output_fake, fake_label)\n",
        "    d_loss_lst.append(loss_d)\n",
        "    loss_g = criterion(output_fake, real_label) + criterion(output_real, fake_label) # see if generator made fake sample looking real \n",
        "    g_loss_lst.append(loss_g)\n",
        "\n",
        "    # train until generator loss < 3.5\n",
        "    if loss_g.data.item() < 3.5:\n",
        "      optimizerD.zero_grad() #Sets the gradients of all optimized torch.Tensor s to zero.\n",
        "      loss_d.backward(retain_graph=True) \n",
        "      optimizerD.step()\n",
        "\n",
        "    \n",
        "    #train generator\n",
        "    optimizerG.zero_grad()\n",
        "    loss_g.backward()\n",
        "    optimizerG.step()\n",
        "\n",
        "    if i % 1 == 0 :\n",
        "      print(\"Epoch : \", epoch, \"iter : \", i, \"D Loss : \", loss_d.item(), \"G loss : \", loss_g.item(),\n",
        "            \"D(x) : \", output_real.mean().item(), \"D(G(x)) : \", output_fake.mean().item())\n",
        "      \n",
        "    if i % 50 == 0 :\n",
        "      vutils.save_image(d_fake.cpu().data[:16, ], './%s/fake.png' % (save_image_dir))\n",
        "      vutils.save_image(d_real.cpu(), data[:16,], './%s/real.png' % (save_image_dir))\n",
        "\n",
        "      i += 1 \n",
        "\n",
        "    if epoch % 10 == 0 :\n",
        "      torch.save(netG.state_dict(), './%s/netG_epoch_%d.pth' % (save_model_dir, epoch))\n",
        "      torch.save(netE.state_dict(), './%s/netE_epoch_%d.pth' % (save_model_dir, epoch))\n",
        "      torch.save(netD.state_dict(), './%s/netD_epoch_%d.pth' % (save_model_dir, epoch))\n",
        "\n",
        "      vutils.save_image(d_fake.cpu().data[:16,], './%s/fake_%d/png' % (save_image_dir, epoch))\n"
      ],
      "metadata": {
        "colab": {
          "base_uri": "https://localhost:8080/",
          "height": 400
        },
        "id": "4borgcqppLXL",
        "outputId": "87a7ea02-1356-426b-d62b-5a574ba58550"
      },
      "execution_count": 48,
      "outputs": [
        {
          "output_type": "error",
          "ename": "NotImplementedError",
          "evalue": "ignored",
          "traceback": [
            "\u001b[0;31m---------------------------------------------------------------------------\u001b[0m",
            "\u001b[0;31mNotImplementedError\u001b[0m                       Traceback (most recent call last)",
            "\u001b[0;32m<ipython-input-48-eefcd24c5e8c>\u001b[0m in \u001b[0;36m<module>\u001b[0;34m()\u001b[0m\n\u001b[1;32m     23\u001b[0m \u001b[0;34m\u001b[0m\u001b[0m\n\u001b[1;32m     24\u001b[0m     \u001b[0mz_fake\u001b[0m \u001b[0;34m=\u001b[0m \u001b[0mtocuda\u001b[0m\u001b[0;34m(\u001b[0m\u001b[0mtorch\u001b[0m\u001b[0;34m.\u001b[0m\u001b[0mrandn\u001b[0m\u001b[0;34m(\u001b[0m\u001b[0mbatch_size\u001b[0m\u001b[0;34m,\u001b[0m \u001b[0mlatent_size\u001b[0m\u001b[0;34m,\u001b[0m \u001b[0;36m1\u001b[0m\u001b[0;34m,\u001b[0m \u001b[0;36m1\u001b[0m\u001b[0;34m)\u001b[0m\u001b[0;34m)\u001b[0m \u001b[0;31m#prior from normal distribution\u001b[0m\u001b[0;34m\u001b[0m\u001b[0;34m\u001b[0m\u001b[0m\n\u001b[0;32m---> 25\u001b[0;31m     \u001b[0md_fake\u001b[0m \u001b[0;34m=\u001b[0m \u001b[0mnetG\u001b[0m\u001b[0;34m(\u001b[0m\u001b[0mz_fake\u001b[0m\u001b[0;34m)\u001b[0m \u001b[0;31m#\u001b[0m\u001b[0;34m\u001b[0m\u001b[0;34m\u001b[0m\u001b[0m\n\u001b[0m\u001b[1;32m     26\u001b[0m \u001b[0;34m\u001b[0m\u001b[0m\n\u001b[1;32m     27\u001b[0m     \u001b[0mz_real\u001b[0m\u001b[0;34m,\u001b[0m \u001b[0m_\u001b[0m\u001b[0;34m,\u001b[0m \u001b[0m_\u001b[0m\u001b[0;34m,\u001b[0m \u001b[0m_\u001b[0m \u001b[0;34m=\u001b[0m\u001b[0mnetE\u001b[0m\u001b[0;34m(\u001b[0m\u001b[0md_real\u001b[0m\u001b[0;34m)\u001b[0m\u001b[0;34m\u001b[0m\u001b[0;34m\u001b[0m\u001b[0m\n",
            "\u001b[0;32m/usr/local/lib/python3.7/dist-packages/torch/nn/modules/module.py\u001b[0m in \u001b[0;36m__call__\u001b[0;34m(self, *input, **kwargs)\u001b[0m\n\u001b[1;32m    487\u001b[0m             \u001b[0mresult\u001b[0m \u001b[0;34m=\u001b[0m \u001b[0mself\u001b[0m\u001b[0;34m.\u001b[0m\u001b[0m_slow_forward\u001b[0m\u001b[0;34m(\u001b[0m\u001b[0;34m*\u001b[0m\u001b[0minput\u001b[0m\u001b[0;34m,\u001b[0m \u001b[0;34m**\u001b[0m\u001b[0mkwargs\u001b[0m\u001b[0;34m)\u001b[0m\u001b[0;34m\u001b[0m\u001b[0;34m\u001b[0m\u001b[0m\n\u001b[1;32m    488\u001b[0m         \u001b[0;32melse\u001b[0m\u001b[0;34m:\u001b[0m\u001b[0;34m\u001b[0m\u001b[0;34m\u001b[0m\u001b[0m\n\u001b[0;32m--> 489\u001b[0;31m             \u001b[0mresult\u001b[0m \u001b[0;34m=\u001b[0m \u001b[0mself\u001b[0m\u001b[0;34m.\u001b[0m\u001b[0mforward\u001b[0m\u001b[0;34m(\u001b[0m\u001b[0;34m*\u001b[0m\u001b[0minput\u001b[0m\u001b[0;34m,\u001b[0m \u001b[0;34m**\u001b[0m\u001b[0mkwargs\u001b[0m\u001b[0;34m)\u001b[0m\u001b[0;34m\u001b[0m\u001b[0;34m\u001b[0m\u001b[0m\n\u001b[0m\u001b[1;32m    490\u001b[0m         \u001b[0;32mfor\u001b[0m \u001b[0mhook\u001b[0m \u001b[0;32min\u001b[0m \u001b[0mself\u001b[0m\u001b[0;34m.\u001b[0m\u001b[0m_forward_hooks\u001b[0m\u001b[0;34m.\u001b[0m\u001b[0mvalues\u001b[0m\u001b[0;34m(\u001b[0m\u001b[0;34m)\u001b[0m\u001b[0;34m:\u001b[0m\u001b[0;34m\u001b[0m\u001b[0;34m\u001b[0m\u001b[0m\n\u001b[1;32m    491\u001b[0m             \u001b[0mhook_result\u001b[0m \u001b[0;34m=\u001b[0m \u001b[0mhook\u001b[0m\u001b[0;34m(\u001b[0m\u001b[0mself\u001b[0m\u001b[0;34m,\u001b[0m \u001b[0minput\u001b[0m\u001b[0;34m,\u001b[0m \u001b[0mresult\u001b[0m\u001b[0;34m)\u001b[0m\u001b[0;34m\u001b[0m\u001b[0;34m\u001b[0m\u001b[0m\n",
            "\u001b[0;32m/usr/local/lib/python3.7/dist-packages/torch/nn/modules/module.py\u001b[0m in \u001b[0;36mforward\u001b[0;34m(self, *input)\u001b[0m\n\u001b[1;32m     83\u001b[0m             \u001b[0mregistered\u001b[0m \u001b[0mhooks\u001b[0m \u001b[0;32mwhile\u001b[0m \u001b[0mthe\u001b[0m \u001b[0mlatter\u001b[0m \u001b[0msilently\u001b[0m \u001b[0mignores\u001b[0m \u001b[0mthem\u001b[0m\u001b[0;34m.\u001b[0m\u001b[0;34m\u001b[0m\u001b[0;34m\u001b[0m\u001b[0m\n\u001b[1;32m     84\u001b[0m         \"\"\"\n\u001b[0;32m---> 85\u001b[0;31m         \u001b[0;32mraise\u001b[0m \u001b[0mNotImplementedError\u001b[0m\u001b[0;34m\u001b[0m\u001b[0;34m\u001b[0m\u001b[0m\n\u001b[0m\u001b[1;32m     86\u001b[0m \u001b[0;34m\u001b[0m\u001b[0m\n\u001b[1;32m     87\u001b[0m     \u001b[0;32mdef\u001b[0m \u001b[0mregister_buffer\u001b[0m\u001b[0;34m(\u001b[0m\u001b[0mself\u001b[0m\u001b[0;34m,\u001b[0m \u001b[0mname\u001b[0m\u001b[0;34m,\u001b[0m \u001b[0mtensor\u001b[0m\u001b[0;34m)\u001b[0m\u001b[0;34m:\u001b[0m\u001b[0;34m\u001b[0m\u001b[0;34m\u001b[0m\u001b[0m\n",
            "\u001b[0;31mNotImplementedError\u001b[0m: "
          ]
        }
      ]
    }
  ]
}